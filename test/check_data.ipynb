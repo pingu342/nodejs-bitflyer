{
 "cells": [
  {
   "cell_type": "code",
   "execution_count": null,
   "metadata": {
    "collapsed": true
   },
   "outputs": [],
   "source": [
    "#\n",
    "# データが正常かどうかチェックする\n",
    "# 異常が見つかった場合は、以下の手順で、異常なデータ以降を削除し、データを生成しなおす\n",
    "# 例えば、FX_BTC_JPYのOHLCデータ(1日足)で、id=556,557が重複(op_dateの値が同一)である場合、\n",
    "# $ mongod\n",
    "# $ use bitflyer\n",
    "# // id=556,557のデータが重複(op_dateの値が同一)であることを確認\n",
    "# > db.lightning_executions_FX_BTC_JPY_OHLC_86400.find({'id':{'$gte':556}}\n",
    "# // id=556以降のデータを削除\n",
    "# > db.lightning_executions_FX_BTC_JPY_OHLC_86400.remove({'id':{'$gte':556}}\n",
    "# // id=556以降のデータが削除されたことを確認\n",
    "# > db.lightning_executions_FX_BTC_JPY_OHLC_86400.find({'id':{'$gte':556}}\n",
    "# // データを生成しなおす\n",
    "# $ forever start create_ohlc.js FX_BTC_JPY\n",
    "#\n",
    "import datetime\n",
    "import pymongo\n",
    "import numpy as np\n",
    "import pandas as pd"
   ]
  },
  {
   "cell_type": "code",
   "execution_count": null,
   "metadata": {
    "collapsed": true
   },
   "outputs": [],
   "source": [
    "#\n",
    "# 約定データに重複(id)がないことをチェックする\n",
    "#\n",
    "def check_duplicaiton_exec(co):\n",
    "    pre = None\n",
    "    after = datetime.datetime(2017,5,20)\n",
    "    for data in co.find({'exec_date':{'$gte':after}}).sort('id',1):\n",
    "        if (pre is not None) :\n",
    "            if (pre['id'] == data['id']) :\n",
    "                print '[duplication] *id:', data['id']\n",
    "                \n",
    "        pre = data"
   ]
  },
  {
   "cell_type": "code",
   "execution_count": null,
   "metadata": {
    "collapsed": true
   },
   "outputs": [],
   "source": [
    "#\n",
    "# OHLCデータに重複(id, op_date）がないことをチェックする\n",
    "# OHLCデータの欠落をチェックする\n",
    "#\n",
    "def check_ohlc(co, span):\n",
    "    pre = None\n",
    "    for data in co.find().sort('id',1):\n",
    "        if (pre is not None) :\n",
    "            if (pre['op_date'] == data['op_date']) :\n",
    "                print '[duplication] id:', data['id'], ' *op_date:', data['op_date'], ' op_exec_id:', data['op_exec_id'], ' cl_exec_id:', data['cl_exec_id']\n",
    "                \n",
    "            if (pre['id'] == data['id']) :\n",
    "                print '[duplication] *id:', data['id'], ' op_date:', data['op_date'], ' op_exec_id:', data['op_exec_id'], ' cl_exec_id:', data['cl_exec_id']\n",
    "                \n",
    "            delta = datetime.timedelta(seconds=span)\n",
    "            date = pre['op_date'] + delta\n",
    "            while (date < data['op_date']) :\n",
    "                print '[missing] op_date:', date\n",
    "                date += delta;\n",
    "                \n",
    "        pre = data"
   ]
  },
  {
   "cell_type": "code",
   "execution_count": null,
   "metadata": {
    "collapsed": true
   },
   "outputs": [],
   "source": [
    "client = pymongo.MongoClient('mongodb://ec2-54-250-245-71.ap-northeast-1.compute.amazonaws.com:27017/bitflyer')\n",
    "db = client.bitflyer"
   ]
  },
  {
   "cell_type": "code",
   "execution_count": null,
   "metadata": {
    "collapsed": true
   },
   "outputs": [],
   "source": [
    "check_duplicaiton_exec(db.lightning_executions_BTC_JPY)"
   ]
  },
  {
   "cell_type": "code",
   "execution_count": null,
   "metadata": {
    "collapsed": true
   },
   "outputs": [],
   "source": [
    "check_duplicaiton_exec(db.lightning_executions_FX_BTC_JPY)"
   ]
  },
  {
   "cell_type": "code",
   "execution_count": null,
   "metadata": {},
   "outputs": [],
   "source": [
    "check_ohlc(db.lightning_executions_BTC_JPY_OHLC_300, 300)"
   ]
  },
  {
   "cell_type": "code",
   "execution_count": null,
   "metadata": {
    "collapsed": true
   },
   "outputs": [],
   "source": [
    "check_ohlc(db.lightning_executions_BTC_JPY_OHLC_900, 900)"
   ]
  },
  {
   "cell_type": "code",
   "execution_count": null,
   "metadata": {
    "collapsed": true
   },
   "outputs": [],
   "source": [
    "check_ohlc(db.lightning_executions_BTC_JPY_OHLC_1800, 1800)"
   ]
  },
  {
   "cell_type": "code",
   "execution_count": null,
   "metadata": {
    "collapsed": true
   },
   "outputs": [],
   "source": [
    "check_ohlc(db.lightning_executions_BTC_JPY_OHLC_3600, 3600)"
   ]
  },
  {
   "cell_type": "code",
   "execution_count": null,
   "metadata": {
    "collapsed": true
   },
   "outputs": [],
   "source": [
    "check_ohlc(db.lightning_executions_BTC_JPY_OHLC_21600, 21600)"
   ]
  },
  {
   "cell_type": "code",
   "execution_count": null,
   "metadata": {
    "collapsed": true
   },
   "outputs": [],
   "source": [
    "check_ohlc(db.lightning_executions_BTC_JPY_OHLC_43200, 43200)"
   ]
  },
  {
   "cell_type": "code",
   "execution_count": null,
   "metadata": {
    "collapsed": true
   },
   "outputs": [],
   "source": [
    "check_ohlc(db.lightning_executions_BTC_JPY_OHLC_86400, 86400)"
   ]
  },
  {
   "cell_type": "code",
   "execution_count": null,
   "metadata": {
    "collapsed": true
   },
   "outputs": [],
   "source": [
    "check_ohlc(db.lightning_executions_FX_BTC_JPY_OHLC_300, 300)"
   ]
  },
  {
   "cell_type": "code",
   "execution_count": null,
   "metadata": {
    "collapsed": true
   },
   "outputs": [],
   "source": [
    "check_ohlc(db.lightning_executions_FX_BTC_JPY_OHLC_900, 900)"
   ]
  },
  {
   "cell_type": "code",
   "execution_count": null,
   "metadata": {
    "collapsed": true
   },
   "outputs": [],
   "source": [
    "check_ohlc(db.lightning_executions_FX_BTC_JPY_OHLC_1800, 1800)"
   ]
  },
  {
   "cell_type": "code",
   "execution_count": null,
   "metadata": {
    "collapsed": true
   },
   "outputs": [],
   "source": [
    "check_ohlc(db.lightning_executions_FX_BTC_JPY_OHLC_3600, 3600)"
   ]
  },
  {
   "cell_type": "code",
   "execution_count": null,
   "metadata": {
    "collapsed": true
   },
   "outputs": [],
   "source": [
    "check_ohlc(db.lightning_executions_FX_BTC_JPY_OHLC_21600, 21600)"
   ]
  },
  {
   "cell_type": "code",
   "execution_count": null,
   "metadata": {
    "collapsed": true
   },
   "outputs": [],
   "source": [
    "check_ohlc(db.lightning_executions_FX_BTC_JPY_OHLC_43200, 43200)"
   ]
  },
  {
   "cell_type": "code",
   "execution_count": null,
   "metadata": {
    "collapsed": true
   },
   "outputs": [],
   "source": [
    "check_ohlc(db.lightning_executions_FX_BTC_JPY_OHLC_86400, 86400)"
   ]
  },
  {
   "cell_type": "code",
   "execution_count": null,
   "metadata": {
    "collapsed": true
   },
   "outputs": [],
   "source": []
  }
 ],
 "metadata": {
  "kernelspec": {
   "display_name": "Python 2",
   "language": "python",
   "name": "python2"
  },
  "language_info": {
   "codemirror_mode": {
    "name": "ipython",
    "version": 2
   },
   "file_extension": ".py",
   "mimetype": "text/x-python",
   "name": "python",
   "nbconvert_exporter": "python",
   "pygments_lexer": "ipython2",
   "version": "2.7.13"
  }
 },
 "nbformat": 4,
 "nbformat_minor": 2
}
